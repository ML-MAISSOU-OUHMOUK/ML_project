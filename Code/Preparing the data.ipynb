{
 "cells": [
  {
   "cell_type": "code",
   "execution_count": 1,
   "metadata": {},
   "outputs": [],
   "source": [
    "import networkx as nx\n",
    "import pandas as pd\n",
    "import numpy as np\n",
    "import random\n",
    "from tqdm import tqdm\n",
    "import re\n",
    "import matplotlib.pyplot as plt\n",
    "import csv\n",
    "import os\n"
   ]
  },
  {
   "cell_type": "code",
   "execution_count": 42,
   "metadata": {},
   "outputs": [
    {
     "data": {
      "text/html": [
       "<div>\n",
       "<style scoped>\n",
       "    .dataframe tbody tr th:only-of-type {\n",
       "        vertical-align: middle;\n",
       "    }\n",
       "\n",
       "    .dataframe tbody tr th {\n",
       "        vertical-align: top;\n",
       "    }\n",
       "\n",
       "    .dataframe thead th {\n",
       "        text-align: right;\n",
       "    }\n",
       "</style>\n",
       "<table border=\"1\" class=\"dataframe\">\n",
       "  <thead>\n",
       "    <tr style=\"text-align: right;\">\n",
       "      <th></th>\n",
       "      <th>DB00357</th>\n",
       "      <th>P05108</th>\n",
       "    </tr>\n",
       "  </thead>\n",
       "  <tbody>\n",
       "    <tr>\n",
       "      <td>0</td>\n",
       "      <td>DB02721</td>\n",
       "      <td>P00325</td>\n",
       "    </tr>\n",
       "    <tr>\n",
       "      <td>1</td>\n",
       "      <td>DB00773</td>\n",
       "      <td>P23219</td>\n",
       "    </tr>\n",
       "    <tr>\n",
       "      <td>2</td>\n",
       "      <td>DB07138</td>\n",
       "      <td>Q16539</td>\n",
       "    </tr>\n",
       "    <tr>\n",
       "      <td>3</td>\n",
       "      <td>DB08136</td>\n",
       "      <td>P24941</td>\n",
       "    </tr>\n",
       "    <tr>\n",
       "      <td>4</td>\n",
       "      <td>DB01242</td>\n",
       "      <td>P23975</td>\n",
       "    </tr>\n",
       "  </tbody>\n",
       "</table>\n",
       "</div>"
      ],
      "text/plain": [
       "   DB00357  P05108\n",
       "0  DB02721  P00325\n",
       "1  DB00773  P23219\n",
       "2  DB07138  Q16539\n",
       "3  DB08136  P24941\n",
       "4  DB01242  P23975"
      ]
     },
     "execution_count": 42,
     "metadata": {},
     "output_type": "execute_result"
    }
   ],
   "source": [
    "#importing the dataset \n",
    "df=pd.read_csv('data.tsv', delimiter=',')\n",
    "df.head()"
   ]
  },
  {
   "cell_type": "code",
   "execution_count": 44,
   "metadata": {},
   "outputs": [
    {
     "name": "stdout",
     "output_type": "stream",
     "text": [
      "Name: \n",
      "Type: DiGraph\n",
      "Number of nodes: 7341\n",
      "Number of edges: 15137\n",
      "Average in degree:   2.0620\n",
      "Average out degree:   2.0620\n"
     ]
    }
   ],
   "source": [
    "df.to_csv('F-Dataset.csv',index=False,header=None)\n",
    "g=nx.read_edgelist('F-Dataset.csv',delimiter=',',create_using=nx.DiGraph())\n",
    "print(nx.info(g))\n"
   ]
  },
  {
   "cell_type": "code",
   "execution_count": 45,
   "metadata": {},
   "outputs": [
    {
     "data": {
      "text/plain": [
       "15138"
      ]
     },
     "execution_count": 45,
     "metadata": {},
     "output_type": "execute_result"
    }
   ],
   "source": [
    "#generate the 15138  missing edges and storing them\n",
    "import random\n",
    "myedges = set([])\n",
    "r = csv.reader(open('F-Dataset.csv','r'))\n",
    "edges = dict()\n",
    "for edge in r:\n",
    "    edges[(edge[0], edge[1])] = 1\n",
    "while (len(myedges)<15138):\n",
    "    a=random.randint(1,7341)\n",
    "    b=random.randint(1,7341)\n",
    "    tmp = edges.get((a,b),-1)\n",
    "    if tmp == -1 and a!=b:\n",
    "        try:\n",
    "            if nx.shortest_path_length(g,source=a,target=b) >2: \n",
    "                myedges.add((a,b))\n",
    "            else:\n",
    "                continue  \n",
    "        except:  \n",
    "               myedges.add((a,b))              \n",
    "    else:\n",
    "        continue\n",
    "len(myedges)"
   ]
  },
  {
   "cell_type": "code",
   "execution_count": 47,
   "metadata": {},
   "outputs": [],
   "source": [
    "from sklearn.model_selection import train_test_split"
   ]
  },
  {
   "cell_type": "code",
   "execution_count": 46,
   "metadata": {},
   "outputs": [],
   "source": [
    "if (not os.path.isfile('train_data.csv')) and (not os.path.isfile('test_data.csv')):\n",
    "    \n",
    "    df_pos = pd.read_csv('F-Dataset.csv')\n",
    "    df_neg = pd.DataFrame(list(myedges), columns=['drug', 'protein'])\n",
    "    \n",
    "    print(\"Number of nodes in the graph with edges\", df_pos.shape[0])\n",
    "    print(\"Number of nodes in the graph without edges\", df_neg.shape[0])\n"
   ]
  },
  {
   "cell_type": "code",
   "execution_count": 6,
   "metadata": {},
   "outputs": [
    {
     "name": "stdout",
     "output_type": "stream",
     "text": [
      "Number of nodes in the train data graph with edges 12110 = 12110\n",
      "Number of nodes in the train data graph without edges 12110 = 12110\n",
      "Number of nodes in the test data graph with edges 3028 = 3028\n",
      "Number of nodes in the test data graph without edges 3028 = 3028\n"
     ]
    }
   ],
   "source": [
    "#using the train_test_split to split our data to test and train\n",
    "X_train_pos, X_test_pos, y_train_pos, y_test_pos  = train_test_split(df_pos,np.ones(len(df_pos)),test_size=0.2, random_state=9)\n",
    "X_train_neg, X_test_neg, y_train_neg, y_test_neg  = train_test_split(df_neg,np.zeros(len(df_neg)),test_size=0.2, random_state=9)\n",
    "#removing header and saving\n",
    "X_train_pos.to_csv('train_data.csv',header=False, index=False)\n",
    "X_test_pos.to_csv('test_data.csv',header=False, index=False)\n",
    "X_train_neg.to_csv('train_neg.csv',header=False, index=False)\n",
    "X_test_neg.to_csv('test_neg.csv',header=False, index=False)\n",
    "\n",
    "\n",
    "#train data graph info\n",
    "print(\"Number of nodes in the train data graph with edges\", X_train_pos.shape[0],\"=\",y_train_pos.shape[0])\n",
    "print(\"Number of nodes in the train data graph without edges\", X_train_neg.shape[0],\"=\", y_train_neg.shape[0])\n",
    "#test data graph info\n",
    "print(\"Number of nodes in the test data graph with edges\", X_test_pos.shape[0],\"=\",y_test_pos.shape[0])\n",
    "print(\"Number of nodes in the test data graph without edges\", X_test_neg.shape[0],\"=\",y_test_neg.shape[0])\n"
   ]
  },
  {
   "cell_type": "code",
   "execution_count": 102,
   "metadata": {},
   "outputs": [],
   "source": [
    "del myedges"
   ]
  },
  {
   "cell_type": "code",
   "execution_count": 8,
   "metadata": {},
   "outputs": [
    {
     "name": "stdout",
     "output_type": "stream",
     "text": [
      "Name: \n",
      "Type: DiGraph\n",
      "Number of nodes: 6552\n",
      "Number of edges: 12109\n",
      "Average in degree:   1.8481\n",
      "Average out degree:   1.8481\n",
      "Name: \n",
      "Type: DiGraph\n",
      "Number of nodes: 2775\n",
      "Number of edges: 3028\n",
      "Average in degree:   1.0912\n",
      "Average out degree:   1.0912\n",
      "---------------------------------------- \n",
      "nbr of nodes that are both in train and test:  1986\n",
      "nbr of nodes only in train data:  4566\n",
      "nbr of nodes only in test data:  789\n"
     ]
    }
   ],
   "source": [
    "if (os.path.isfile('train_data.csv')) and (os.path.isfile('test_data.csv')):        \n",
    "    train_graph=nx.read_edgelist('train_data.csv',delimiter=',',create_using=nx.DiGraph())\n",
    "    test_graph=nx.read_edgelist('test_data.csv',delimiter=',',create_using=nx.DiGraph())\n",
    "    print(nx.info(train_graph))\n",
    "    print(nx.info(test_graph))\n",
    "\n",
    "    # finding the unique nodes in the both train and test graphs\n",
    "    train_nodes_pos = set(train_graph.nodes())\n",
    "    test_nodes_pos = set(test_graph.nodes())\n",
    "\n",
    "    trY_teY = len(train_nodes_pos.intersection(test_nodes_pos))\n",
    "    trY_teN = len(train_nodes_pos - test_nodes_pos)\n",
    "    teY_trN = len(test_nodes_pos - train_nodes_pos)\n",
    "    print('---------------------------------------- ')\n",
    "    \n",
    "\n",
    "    print('nbr of nodes that are both in train and test: ',trY_teY)\n",
    "    print('nbr of nodes only in train data: ',trY_teN)\n",
    "    print('nbr of nodes only in test data: ',teY_trN)\n"
   ]
  },
  {
   "cell_type": "code",
   "execution_count": 10,
   "metadata": {},
   "outputs": [],
   "source": [
    "if (not os.path.isfile('train_final.csv')) and \\\n",
    "(not os.path.isfile('test_final.csv')) and \\\n",
    "(not os.path.isfile('train_y.csv')) and \\\n",
    "(not os.path.isfile('test_y.csv')) and \\\n",
    "(os.path.isfile('train_data.csv')) and \\\n",
    "(os.path.isfile('test_data.csv')) and \\\n",
    "(os.path.isfile('train_neg.csv')) and \\\n",
    "(os.path.isfile('test_neg.csv')):\n",
    "    \n",
    "    X_train_pos = pd.read_csv('train_data.csv', names=['drug', 'gene'])\n",
    "    X_test_pos = pd.read_csv('test_data.csv', names=['drug', 'gene'])\n",
    "    X_train_neg = pd.read_csv('train_neg.csv', names=['drug', 'gene'])\n",
    "    X_test_neg = pd.read_csv('test_neg.csv', names=['drug', 'gene'])\n",
    "\n",
    "    X_train = X_train_pos.append(X_train_neg,ignore_index=True)\n",
    "    y_train = np.concatenate((y_train_pos,y_train_neg))\n",
    "    X_test = X_test_pos.append(X_test_neg,ignore_index=True)\n",
    "    y_test = np.concatenate((y_test_pos,y_test_neg)) \n",
    "    \n",
    "    X_train.to_csv('train_final.csv',header=False,index=False)\n",
    "    X_test.to_csv('test_final.csv',header=False,index=False)\n",
    "    pd.DataFrame(y_train.astype(int)).to_csv('train_y.csv',header=False,index=False)\n",
    "    pd.DataFrame(y_test.astype(int)).to_csv('test_y.csv',header=False,index=False)"
   ]
  },
  {
   "cell_type": "code",
   "execution_count": 11,
   "metadata": {},
   "outputs": [
    {
     "name": "stdout",
     "output_type": "stream",
     "text": [
      "Data points in train data (24220, 2)\n",
      "Data points in test data (6056, 2)\n",
      "Shape of traget variable in train (24220,)\n",
      "Shape of traget variable in test (6056,)\n"
     ]
    }
   ],
   "source": [
    "print(\"Data points in train data\",X_train.shape)\n",
    "print(\"Data points in test data\",X_test.shape)\n",
    "print(\"Shape of traget variable in train\",y_train.shape)\n",
    "print(\"Shape of traget variable in test\", y_test.shape)"
   ]
  },
  {
   "cell_type": "code",
   "execution_count": null,
   "metadata": {},
   "outputs": [],
   "source": []
  },
  {
   "cell_type": "code",
   "execution_count": null,
   "metadata": {},
   "outputs": [],
   "source": []
  },
  {
   "cell_type": "code",
   "execution_count": null,
   "metadata": {},
   "outputs": [],
   "source": []
  },
  {
   "cell_type": "code",
   "execution_count": null,
   "metadata": {},
   "outputs": [],
   "source": []
  }
 ],
 "metadata": {
  "kernelspec": {
   "display_name": "Python 3",
   "language": "python",
   "name": "python3"
  },
  "language_info": {
   "codemirror_mode": {
    "name": "ipython",
    "version": 3
   },
   "file_extension": ".py",
   "mimetype": "text/x-python",
   "name": "python",
   "nbconvert_exporter": "python",
   "pygments_lexer": "ipython3",
   "version": "3.7.4"
  }
 },
 "nbformat": 4,
 "nbformat_minor": 2
}
